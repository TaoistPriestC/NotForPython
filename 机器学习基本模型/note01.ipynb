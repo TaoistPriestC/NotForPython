{
 "cells": [
  {
   "cell_type": "markdown",
   "metadata": {},
   "source": [
    "线性模型 $\\theta{x}$ 是最简单的模型，但是现实中绝大部分的任务都是非线性的，故其往往会以多个基函数扩展变为基于参数线性模型，\n",
    "\n",
    "$$\n",
    "f_{\\theta}(x) = \\sum_{j=1}^{n}\\theta_{j}\\phi_{j}(x)=\\theta^{T}\\phi(x)\n",
    "$$\n",
    "\n",
    "其中基函数向量 $\\phi(x)=(\\phi_1(x),...,\\phi_n(x))$,虽然模型仍为线性形式，但是修改基函数，使其变为式子(1)或者式子(2)所示的形式，\n",
    "\n",
    "$$\n",
    "\\phi(x)=(1,x,x^2,x^3,...,x^n)\\tag{1}\n",
    "$$\n",
    "$$\n",
    "\\phi(x)=(1,\\sin(x),...,\\sin(nx))\\tag{2}\n",
    "$$\n",
    "\n",
    "改装过后的线性模型可以用于表示复杂的非线性模型，此时 $x$ 仍是一个标量，上标$n$代表基函数个数而非数据维度，之所以会看到向量点乘形式是因为基函数把原始数据进行了升维处理，如果标量 $x$ 拓展改成向量 $\\pmb{x}$, 维度个数记作$d$, 那么模型变为，\n",
    "$$\n",
    "f_{\\theta}(x) = \\sum_{k=1}^d\\sum_{j=1}^{n}\\theta_{j}\\phi_{j}(x)=\\theta^{T}\\phi(x)\n",
    "$$"
   ]
  },
  {
   "cell_type": "code",
   "execution_count": null,
   "metadata": {},
   "outputs": [],
   "source": []
  }
 ],
 "metadata": {
  "kernelspec": {
   "display_name": "torch",
   "language": "python",
   "name": "torch"
  },
  "language_info": {
   "codemirror_mode": {
    "name": "ipython",
    "version": 3
   },
   "file_extension": ".py",
   "mimetype": "text/x-python",
   "name": "python",
   "nbconvert_exporter": "python",
   "pygments_lexer": "ipython3",
   "version": "3.8.12"
  }
 },
 "nbformat": 4,
 "nbformat_minor": 4
}
