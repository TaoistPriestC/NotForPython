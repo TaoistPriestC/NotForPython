{
 "cells": [
  {
   "cell_type": "code",
   "execution_count": 1,
   "metadata": {},
   "outputs": [],
   "source": [
    "import numpy as np\n",
    "import matplotlib.pyplot as plt\n",
    "from sklearn.datasets import load_digits\n",
    "from sklearn.preprocessing import MinMaxScaler\n",
    "from sklearn.preprocessing import OneHotEncoder\n"
   ]
  },
  {
   "cell_type": "code",
   "execution_count": 2,
   "metadata": {},
   "outputs": [],
   "source": [
    "digits = load_digits()"
   ]
  },
  {
   "cell_type": "code",
   "execution_count": 9,
   "metadata": {},
   "outputs": [
    {
     "name": "stdout",
     "output_type": "stream",
     "text": [
      "digits.data：\n",
      " [[ 0.  0.  5. ...  0.  0.  0.]\n",
      " [ 0.  0.  0. ... 10.  0.  0.]\n",
      " [ 0.  0.  0. ... 16.  9.  0.]\n",
      " ...\n",
      " [ 0.  0.  1. ...  6.  0.  0.]\n",
      " [ 0.  0.  2. ... 12.  0.  0.]\n",
      " [ 0.  0. 10. ... 12.  1.  0.]]\n",
      "digits.target：\n",
      " [0 1 2 ... 8 9 8]\n"
     ]
    }
   ],
   "source": [
    "print(\"digits.data: \\n\", digits.data)\n",
    "print(\"digits.target: \\n\", digits.target)"
   ]
  },
  {
   "cell_type": "code",
   "execution_count": 58,
   "metadata": {},
   "outputs": [],
   "source": [
    "train_x = digits.data\n",
    "train_y = digits.target\n",
    "epsilon = 0.01\n",
    "\n",
    "def getImage(x, n):\n",
    "    ret = list(x[np.random.choice(len(x),n)])\n",
    "    for i,row in enumerate(ret):\n",
    "        ret[i] = row.reshape(8,8)\n",
    "    return np.array(ret)\n",
    "\n",
    "def getDistb(k, m, n):\n",
    "    ret = []\n",
    "    for _ in range(k):\n",
    "        ret.append(np.random.rand(m, n))\n",
    "    return np.array(ret)"
   ]
  },
  {
   "cell_type": "code",
   "execution_count": 59,
   "metadata": {},
   "outputs": [],
   "source": [
    "src = getImage(train_x, 3)\n",
    "dis = getDistb(3, 8, 8)"
   ]
  },
  {
   "cell_type": "code",
   "execution_count": 71,
   "metadata": {},
   "outputs": [
    {
     "data": {
      "image/png": "[encoded data removed]",
      "text/plain": [
       "<Figure size 432x288 with 9 Axes>"
      ]
     },
     "metadata": {
      "needs_background": "light"
     },
     "output_type": "display_data"
    }
   ],
   "source": [
    "plt.title(\"Image Superimposed with Random Noise\")\n",
    "plt.subplots_adjust(wspace = 0.35, hspace = 0.5)\n",
    "for i in range(1,10):\n",
    "    plt.subplot(3, 3, i)\n",
    "    if 1 <= i <= 3:\n",
    "        plt.imshow(src[i - 1])\n",
    "    if 4 <= i <= 6:\n",
    "        plt.imshow(dis[i - 3 - 1])\n",
    "    if 7 <= i <= 9:\n",
    "        plt.imshow(src[i - 6 - 1] + epsilon * dis[i - 6 - 1])\n",
    "plt.show()"
   ]
  }
 ],
 "metadata": {
  "kernelspec": {
   "display_name": "Python 3",
   "language": "python",
   "name": "python3"
  },
  "language_info": {
   "codemirror_mode": {
    "name": "ipython",
    "version": 3
   },
   "file_extension": ".py",
   "mimetype": "text/x-python",
   "name": "python",
   "nbconvert_exporter": "python",
   "pygments_lexer": "ipython3",
   "version": "3.8.3"
  }
 },
 "nbformat": 4,
 "nbformat_minor": 2
}
